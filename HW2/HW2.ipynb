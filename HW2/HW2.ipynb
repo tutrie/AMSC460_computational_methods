{
 "cells": [
  {
   "cell_type": "code",
   "execution_count": 1,
   "id": "sitting-forest",
   "metadata": {},
   "outputs": [],
   "source": [
    "import numpy as np\n",
    "\n",
    "def get_coeff(x: list, y: list) -> np.ndarray:\n",
    "    #This will do divided differences\n",
    "    A = np.zeros((len(x),len(y)), dtype=float)\n",
    "    for row_loc in range(A.shape[0]):\n",
    "        A[row_loc,0] = y[row_loc]\n",
    "    for col_loc in range(1, A.shape[0]):\n",
    "        for row_loc in range(A.shape[0] - col_loc):\n",
    "            A[row_loc,col_loc] = (A[row_loc+1,col_loc-1] - A[row_loc,col_loc-1])/(x[row_loc+col_loc] - x[row_loc])\n",
    "    #coeff are stored along the first row of the array\n",
    "    return A[0,:]\n",
    "\n",
    "def make_phi(x: list) -> np.ndarray:\n",
    "    phi = np.zeros((len(x),))\n",
    "    for idx in range(1, len(x)):\n",
    "        phi[idx] = -x[idx-1]\n",
    "    #first basis function for a polynomial is always degree 0\n",
    "    phi[0] = 1\n",
    "    return phi\n",
    "\n",
    "def interpolate_x_star(coeff: np.ndarray, phi: np.ndarray, x_star):\n",
    "    phi[1:] = phi[1:] + x_star\n",
    "    for basis in range(1, phi.shape[0]):\n",
    "        phi[basis] = phi[basis]*phi[basis-1]\n",
    "    sol = coeff.dot(phi)\n",
    "    print(\"phi is: \" + str(phi))\n",
    "    print(\"coeff are: \" + str(coeff))\n",
    "    return sol\n"
   ]
  },
  {
   "cell_type": "code",
   "execution_count": 2,
   "id": "soviet-relevance",
   "metadata": {},
   "outputs": [],
   "source": [
    "def solve_newton_interpolation(x: list, y: list, x_star: int) -> float:\n",
    "    return interpolate_x_star(get_coeff(x,y), make_phi(x), x_star)"
   ]
  },
  {
   "cell_type": "code",
   "execution_count": 3,
   "id": "prescribed-teaching",
   "metadata": {},
   "outputs": [
    {
     "name": "stdout",
     "output_type": "stream",
     "text": [
      "phi is: [ 1.  2. -4. -4.]\n",
      "coeff are: [ 3.  2.  1. -1.]\n",
      "f(3)=7.0\n",
      "\n"
     ]
    }
   ],
   "source": [
    "x = [1, 5, 2, 4]\n",
    "y = [3, 11, 2, 12]\n",
    "x_star = 3\n",
    "\n",
    "ans = solve_newton_interpolation(x, y, 3)\n",
    "print(\"f(\"+str(x_star)+\")=\" + str(ans) + \"\\n\")\n"
   ]
  },
  {
   "cell_type": "code",
   "execution_count": 4,
   "id": "blessed-restaurant",
   "metadata": {},
   "outputs": [
    {
     "name": "stdout",
     "output_type": "stream",
     "text": [
      "phi is: [ 1.  0. -0.  0.]\n",
      "coeff are: [ 3.  2.  1. -1.]\n",
      "f(1)=3.0\n",
      "\n",
      "phi is: [1. 4. 0. 0.]\n",
      "coeff are: [ 3.  2.  1. -1.]\n",
      "f(5)=11.0\n",
      "\n",
      "phi is: [ 1.  1. -3. -0.]\n",
      "coeff are: [ 3.  2.  1. -1.]\n",
      "f(2)=2.0\n",
      "\n",
      "phi is: [ 1.  3. -3. -6.]\n",
      "coeff are: [ 3.  2.  1. -1.]\n",
      "f(4)=12.0\n",
      "\n"
     ]
    }
   ],
   "source": [
    "for x_star in x:\n",
    "    print(\"f(\"+str(x_star)+\")=\" + str(solve_newton_interpolation(x, y, x_star))+\"\\n\")"
   ]
  },
  {
   "cell_type": "code",
   "execution_count": null,
   "id": "solid-ultimate",
   "metadata": {},
   "outputs": [],
   "source": []
  }
 ],
 "metadata": {
  "kernelspec": {
   "display_name": "Python 3",
   "language": "python",
   "name": "python3"
  },
  "language_info": {
   "codemirror_mode": {
    "name": "ipython",
    "version": 3
   },
   "file_extension": ".py",
   "mimetype": "text/x-python",
   "name": "python",
   "nbconvert_exporter": "python",
   "pygments_lexer": "ipython3",
   "version": "3.8.5"
  }
 },
 "nbformat": 4,
 "nbformat_minor": 5
}
