{
 "cells": [
  {
   "cell_type": "code",
   "execution_count": 1,
   "metadata": {},
   "outputs": [],
   "source": [
    "import numpy as np\n",
    "import math"
   ]
  },
  {
   "cell_type": "code",
   "execution_count": 2,
   "metadata": {},
   "outputs": [],
   "source": [
    "def guassian_elimination(A, b):\n",
    "    \n",
    "    #Concontanate the matrix A and right hand side column \n",
    "    #vector b into one matrix\n",
    "    temp_mat = np.c_[A, b]\n",
    "    \n",
    "    #Get the number of rows\n",
    "    n = temp_mat.shape[0]\n",
    "    \n",
    "    #Loop over rows\n",
    "    for i in range(n):\n",
    "            \n",
    "        #Find the pivot index by looking down the ith \n",
    "        #column from the ith row to find the maximum \n",
    "        #(in magnitude) entry.\n",
    "        p = np.abs(temp_mat[i:, i]).argmax()\n",
    "            \n",
    "        #We have to reindex the pivot index to be the \n",
    "        #appropriate entry in the entire matrix, not \n",
    "        #just from the ith row down.\n",
    "        p += i \n",
    "    \n",
    "        #Swapping rows to make the maximal entry the \n",
    "        #pivot (if needed).\n",
    "        if p != i:\n",
    "            temp_mat[[p, i]] = temp_mat[[i, p]]\n",
    "            \n",
    "        #Eliminate all entries below the pivot\n",
    "        factor = temp_mat[i+1:, i] / temp_mat[i, i]\n",
    "        print(temp_mat)\n",
    "        print(temp_mat[i+1:, i])\n",
    "        print(temp_mat[i, i])\n",
    "        print(factor)\n",
    "        print(factor[:, np.newaxis])\n",
    "        print(temp_mat[i])\n",
    "        print(temp_mat[i+1:])\n",
    "        print(\"\\n\\n\")\n",
    "        temp_mat[i+1:] -= factor[:, np.newaxis] * temp_mat[i]\n",
    "        \n",
    "    for i in range(n):\n",
    "        # Set the pivot column to have 1s along the diagnol\n",
    "        temp_mat[i] /= temp_mat[i,i]\n",
    "        \n",
    "    return temp_mat[:,:n], temp_mat[:,n]"
   ]
  },
  {
   "cell_type": "code",
   "execution_count": 3,
   "metadata": {},
   "outputs": [
    {
     "name": "stdout",
     "output_type": "stream",
     "text": [
      "[[ 12.  -8.   6.  10.  26.]\n",
      " [  6.  -2.   2.   4.  16.]\n",
      " [  3. -13.   9.   3. -19.]\n",
      " [ -6.   4.   1. -18. -34.]]\n",
      "[ 6.  3. -6.]\n",
      "12.0\n",
      "[ 0.5   0.25 -0.5 ]\n",
      "[[ 0.5 ]\n",
      " [ 0.25]\n",
      " [-0.5 ]]\n",
      "[12. -8.  6. 10. 26.]\n",
      "[[  6.  -2.   2.   4.  16.]\n",
      " [  3. -13.   9.   3. -19.]\n",
      " [ -6.   4.   1. -18. -34.]]\n",
      "\n",
      "\n",
      "\n",
      "[[ 12.   -8.    6.   10.   26. ]\n",
      " [  0.  -11.    7.5   0.5 -25.5]\n",
      " [  0.    2.   -1.   -1.    3. ]\n",
      " [  0.    0.    4.  -13.  -21. ]]\n",
      "[2. 0.]\n",
      "-11.0\n",
      "[-0.18181818 -0.        ]\n",
      "[[-0.18181818]\n",
      " [-0.        ]]\n",
      "[  0.  -11.    7.5   0.5 -25.5]\n",
      "[[  0.   2.  -1.  -1.   3.]\n",
      " [  0.   0.   4. -13. -21.]]\n",
      "\n",
      "\n",
      "\n",
      "[[ 12.          -8.           6.          10.          26.        ]\n",
      " [  0.         -11.           7.5          0.5        -25.5       ]\n",
      " [  0.           0.           4.         -13.         -21.        ]\n",
      " [  0.           0.           0.36363636  -0.90909091  -1.63636364]]\n",
      "[0.36363636]\n",
      "4.0\n",
      "[0.09090909]\n",
      "[[0.09090909]]\n",
      "[  0.   0.   4. -13. -21.]\n",
      "[[ 0.          0.          0.36363636 -0.90909091 -1.63636364]]\n",
      "\n",
      "\n",
      "\n",
      "[[ 12.          -8.           6.          10.          26.        ]\n",
      " [  0.         -11.           7.5          0.5        -25.5       ]\n",
      " [  0.           0.           4.         -13.         -21.        ]\n",
      " [  0.           0.           0.           0.27272727   0.27272727]]\n",
      "[]\n",
      "0.27272727272727304\n",
      "[]\n",
      "[]\n",
      "[0.         0.         0.         0.27272727 0.27272727]\n",
      "[]\n",
      "\n",
      "\n",
      "\n"
     ]
    }
   ],
   "source": [
    "A = np.array([[6.0, -2.0, 2.0, 4.0], [12.0, -8.0, 6.0, 10.0], [3.0, -13.0, 9.0, 3.0], [-6.0, 4.0, 1.0, -18.0]])\n",
    "b = np.array([[16.0],[26.0],[-19.0], [-34.0]])\n",
    "A, b = guassian_elimination(A,b)"
   ]
  },
  {
   "cell_type": "code",
   "execution_count": 4,
   "metadata": {},
   "outputs": [],
   "source": [
    "def back_substitution(A: np.ndarray, b: np.ndarray) -> np.ndarray:\n",
    "    n = b.size\n",
    "    x = np.zeros_like(b)\n",
    "\n",
    "    x[n-1] = b[n-1]/A[n-1, n-1]\n",
    "    C = np.zeros((n,n))\n",
    "    for i in range(n-2, -1, -1):\n",
    "        temp = 0\n",
    "        for j in range (i+1, n):\n",
    "            temp += A[i, j]*x[j]\n",
    "        print(temp)\n",
    "        C[i, i] = b[i] - temp\n",
    "        x[i] = C[i, i]/A[i, i]\n",
    "        print(x)\n",
    "        print(C)\n",
    "\n",
    "    return x"
   ]
  },
  {
   "cell_type": "code",
   "execution_count": 5,
   "metadata": {},
   "outputs": [
    {
     "name": "stdout",
     "output_type": "stream",
     "text": [
      "-3.2499999999999987\n",
      "[ 0.  0. -2.  1.]\n",
      "[[ 0.  0.  0.  0.]\n",
      " [ 0.  0.  0.  0.]\n",
      " [ 0.  0. -2.  0.]\n",
      " [ 0.  0.  0.  0.]]\n",
      "1.318181818181819\n",
      "[ 0.  1. -2.  1.]\n",
      "[[ 0.  0.  0.  0.]\n",
      " [ 0.  1.  0.  0.]\n",
      " [ 0.  0. -2.  0.]\n",
      " [ 0.  0.  0.  0.]]\n",
      "-0.8333333333333339\n",
      "[ 3.  1. -2.  1.]\n",
      "[[ 3.  0.  0.  0.]\n",
      " [ 0.  1.  0.  0.]\n",
      " [ 0.  0. -2.  0.]\n",
      " [ 0.  0.  0.  0.]]\n"
     ]
    },
    {
     "data": {
      "text/plain": [
       "array([ 3.,  1., -2.,  1.])"
      ]
     },
     "execution_count": 5,
     "metadata": {},
     "output_type": "execute_result"
    }
   ],
   "source": [
    "x = back_substitution(A,b)\n",
    "x"
   ]
  },
  {
   "cell_type": "code",
   "execution_count": 6,
   "metadata": {},
   "outputs": [],
   "source": [
    "def back_substitution(A, y):\n",
    "    \n",
    "    #Number of rows\n",
    "    n = A.shape[0]\n",
    "    \n",
    "    #Allocating space for the solution vector\n",
    "    x = np.zeros_like(y, dtype=np.double);\n",
    "\n",
    "    #Here we perform the back-substitution.  \n",
    "    #Initializing with the last row.\n",
    "    x[-1] = y[-1] / A[-1, -1]\n",
    "    print(x)\n",
    "    #Looping over rows in reverse (from the bottom up), \n",
    "    #starting with the second to last row, because the \n",
    "    #last row solve was completed in the last step.\n",
    "    for i in range(n-2, -1, -1):\n",
    "        x[i] = (y[i] - np.dot(A[i,i:], x[i:])) / A[i,i]\n",
    "        print(x)\n",
    "    return x"
   ]
  },
  {
   "cell_type": "code",
   "execution_count": 7,
   "metadata": {},
   "outputs": [
    {
     "name": "stdout",
     "output_type": "stream",
     "text": [
      "[0. 0. 0. 1.]\n",
      "[ 0.  0. -2.  1.]\n",
      "[ 0.  1. -2.  1.]\n",
      "[ 3.  1. -2.  1.]\n"
     ]
    },
    {
     "data": {
      "text/plain": [
       "array([ 3.,  1., -2.,  1.])"
      ]
     },
     "execution_count": 7,
     "metadata": {},
     "output_type": "execute_result"
    }
   ],
   "source": [
    "x = back_substitution(A,b)\n",
    "x"
   ]
  },
  {
   "cell_type": "code",
   "execution_count": null,
   "metadata": {},
   "outputs": [],
   "source": []
  }
 ],
 "metadata": {
  "kernelspec": {
   "display_name": "Python 3",
   "language": "python",
   "name": "python3"
  },
  "language_info": {
   "codemirror_mode": {
    "name": "ipython",
    "version": 3
   },
   "file_extension": ".py",
   "mimetype": "text/x-python",
   "name": "python",
   "nbconvert_exporter": "python",
   "pygments_lexer": "ipython3",
   "version": "3.8.5"
  }
 },
 "nbformat": 4,
 "nbformat_minor": 5
}
