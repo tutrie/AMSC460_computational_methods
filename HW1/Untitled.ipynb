{
 "cells": [
  {
   "cell_type": "code",
   "execution_count": 1,
   "metadata": {},
   "outputs": [],
   "source": [
    "import numpy as np\n",
    "import math"
   ]
  },
  {
   "cell_type": "code",
   "execution_count": 2,
   "metadata": {},
   "outputs": [],
   "source": [
    "def back_substitution(A: np.ndarray, b: np.ndarray) -> np.ndarray:\n",
    "    n = b.size\n",
    "    x = np.zeros_like(b)\n",
    "\n",
    "    if A[n-1, n-1] == 0:\n",
    "        raise ValueError\n",
    "\n",
    "\n",
    "    x[n-1] = b[n-1]/A[n-1, n-1]\n",
    "    C = np.zeros((n,n))\n",
    "    for i in range(n-2, -1, -1):\n",
    "        bb = 0\n",
    "        for j in range (i+1, n):\n",
    "            bb += A[i, j]*x[j]\n",
    "\n",
    "        C[i, i] = b[i] - bb\n",
    "        x[i] = C[i, i]/A[i, i]\n",
    "\n",
    "    return x"
   ]
  },
  {
   "cell_type": "code",
   "execution_count": 3,
   "metadata": {},
   "outputs": [
    {
     "data": {
      "text/plain": [
       "matrix([[0],\n",
       "        [0],\n",
       "        [0]])"
      ]
     },
     "execution_count": 3,
     "metadata": {},
     "output_type": "execute_result"
    }
   ],
   "source": [
    "x = np.zeros(1)\n",
    "M = np.matrix([[1, -1, 2], [0, -1, -2], [0, 0, -6]])\n",
    "c = np.matrix([[0],[0],[3]])\n",
    "back_substitution(M,c)"
   ]
  },
  {
   "cell_type": "code",
   "execution_count": 4,
   "metadata": {},
   "outputs": [
    {
     "data": {
      "text/plain": [
       "matrix([[ 1, -1,  2],\n",
       "        [ 0, -1, -2],\n",
       "        [ 0,  0, -6]])"
      ]
     },
     "execution_count": 4,
     "metadata": {},
     "output_type": "execute_result"
    }
   ],
   "source": [
    "M"
   ]
  },
  {
   "cell_type": "code",
   "execution_count": 5,
   "metadata": {},
   "outputs": [],
   "source": [
    "def back_substitution(A: np.ndarray, b: np.ndarray) -> np.ndarray:\n",
    "    n = b.size\n",
    "    x = np.zeros_like(b)\n",
    "\n",
    "    if A[n-1, n-1] == 0:\n",
    "        raise ValueError\n",
    "\n",
    "    for i in range(n-1, 0, -1):\n",
    "        x[i] = A[i, i]/b[i]\n",
    "        for j in range (i-1, 0, -1):\n",
    "            A[i, i] += A[j, i]*x[i]\n",
    "\n",
    "    return x\n"
   ]
  },
  {
   "cell_type": "code",
   "execution_count": 6,
   "metadata": {},
   "outputs": [
    {
     "name": "stderr",
     "output_type": "stream",
     "text": [
      "<ipython-input-5-418a99545c2b>:9: RuntimeWarning: divide by zero encountered in true_divide\n",
      "  x[i] = A[i, i]/b[i]\n"
     ]
    },
    {
     "data": {
      "text/plain": [
       "matrix([[          0],\n",
       "        [-2147483648],\n",
       "        [         -2]])"
      ]
     },
     "execution_count": 6,
     "metadata": {},
     "output_type": "execute_result"
    }
   ],
   "source": [
    "x = np.zeros(1)\n",
    "M = np.matrix([[1, -1, 2], [0, -1, -2], [0, 0, -6]])\n",
    "c = np.matrix([[0],[0],[3]])\n",
    "back_substitution(M,c)"
   ]
  },
  {
   "cell_type": "code",
   "execution_count": 7,
   "metadata": {},
   "outputs": [],
   "source": [
    "def lu(A):\n",
    "    \n",
    "    #Get the number of rows\n",
    "    n = A.shape[0]\n",
    "    \n",
    "    U = A.copy()\n",
    "    L = np.eye(n, dtype=np.double)\n",
    "    \n",
    "    #Loop over rows\n",
    "    for i in range(n):\n",
    "            \n",
    "        #Eliminate entries below i with row operations \n",
    "        #on U and reverse the row operations to \n",
    "        #manipulate L\n",
    "        factor = U[i+1:, i] / U[i, i]\n",
    "        L[i+1:, i] = factor\n",
    "        U[i+1:] -= factor[:, np.newaxis] * U[i]\n",
    "        \n",
    "    return L, U"
   ]
  },
  {
   "cell_type": "code",
   "execution_count": 8,
   "metadata": {},
   "outputs": [],
   "source": [
    "def back_substitution(U, y):\n",
    "    \n",
    "    #Number of rows\n",
    "    n = U.shape[0]\n",
    "    \n",
    "    #Allocating space for the solution vector\n",
    "    x = np.zeros_like(y, dtype=np.double);\n",
    "\n",
    "    #Here we perform the back-substitution.  \n",
    "    #Initializing with the last row.\n",
    "    x[-1] = y[-1] / U[-1, -1]\n",
    "    \n",
    "    #Looping over rows in reverse (from the bottom up), \n",
    "    #starting with the second to last row, because the \n",
    "    #last row solve was completed in the last step.\n",
    "    for i in range(n-2, -1, -1):\n",
    "        x[i] = (y[i] - np.dot(U[i,i:], x[i:])) / U[i,i]\n",
    "        \n",
    "    return x\n"
   ]
  },
  {
   "cell_type": "code",
   "execution_count": 9,
   "metadata": {},
   "outputs": [],
   "source": [
    "def guassian_elimination(A, b):\n",
    "    m = np.zeros(A.shape)\n",
    "    for j in range(A.shape[0]-1):\n",
    "        for i in range(j+1, A.shape[0]):\n",
    "            m.itemset((i,j), (A[i,j])/(A[j,j]))\n",
    "            for k in range(j+1, A.shape[0]):\n",
    "                A.itemset((i,k), A[i,k] - (m[i,j])*(A[j,k]))\n",
    "                print(A)\n",
    "            b.itemset((i,0), b[i,0] - (m[i,j])*(b[j,0]))\n",
    "    return A, b"
   ]
  },
  {
   "cell_type": "code",
   "execution_count": 10,
   "metadata": {},
   "outputs": [
    {
     "name": "stdout",
     "output_type": "stream",
     "text": [
      "[[  6  -2   2   4]\n",
      " [ 12  -4   6  10]\n",
      " [  3 -13   9   3]\n",
      " [ -6   4   1 -18]]\n",
      "[[  6  -2   2   4]\n",
      " [ 12  -4   2  10]\n",
      " [  3 -13   9   3]\n",
      " [ -6   4   1 -18]]\n",
      "[[  6  -2   2   4]\n",
      " [ 12  -4   2   2]\n",
      " [  3 -13   9   3]\n",
      " [ -6   4   1 -18]]\n",
      "[[  6  -2   2   4]\n",
      " [ 12  -4   2   2]\n",
      " [  3 -12   9   3]\n",
      " [ -6   4   1 -18]]\n",
      "[[  6  -2   2   4]\n",
      " [ 12  -4   2   2]\n",
      " [  3 -12   8   3]\n",
      " [ -6   4   1 -18]]\n",
      "[[  6  -2   2   4]\n",
      " [ 12  -4   2   2]\n",
      " [  3 -12   8   1]\n",
      " [ -6   4   1 -18]]\n",
      "[[  6  -2   2   4]\n",
      " [ 12  -4   2   2]\n",
      " [  3 -12   8   1]\n",
      " [ -6   2   1 -18]]\n",
      "[[  6  -2   2   4]\n",
      " [ 12  -4   2   2]\n",
      " [  3 -12   8   1]\n",
      " [ -6   2   3 -18]]\n",
      "[[  6  -2   2   4]\n",
      " [ 12  -4   2   2]\n",
      " [  3 -12   8   1]\n",
      " [ -6   2   3 -14]]\n",
      "[[  6  -2   2   4]\n",
      " [ 12  -4   2   2]\n",
      " [  3 -12   2   1]\n",
      " [ -6   2   3 -14]]\n",
      "[[  6  -2   2   4]\n",
      " [ 12  -4   2   2]\n",
      " [  3 -12   2  -5]\n",
      " [ -6   2   3 -14]]\n",
      "[[  6  -2   2   4]\n",
      " [ 12  -4   2   2]\n",
      " [  3 -12   2  -5]\n",
      " [ -6   2   4 -14]]\n",
      "[[  6  -2   2   4]\n",
      " [ 12  -4   2   2]\n",
      " [  3 -12   2  -5]\n",
      " [ -6   2   4 -13]]\n",
      "[[  6  -2   2   4]\n",
      " [ 12  -4   2   2]\n",
      " [  3 -12   2  -5]\n",
      " [ -6   2   4  -3]]\n"
     ]
    }
   ],
   "source": [
    "M = np.array([[6, -2, 2, 4], [12, -8, 6, 10], [3, -13, 9, 3], [-6, 4, 1, -18]])\n",
    "c = np.array([[16],[26],[-19], [-34]])\n",
    "A, b = guassian_elimination(M,c)"
   ]
  },
  {
   "cell_type": "code",
   "execution_count": 78,
   "metadata": {},
   "outputs": [],
   "source": [
    "def guassian_elimination(A, b):\n",
    "    \n",
    "    #Concontanate the matrix A and right hand side column \n",
    "    #vector b into one matrix\n",
    "    temp_mat = np.c_[A, b]\n",
    "    \n",
    "    #Get the number of rows\n",
    "    n = temp_mat.shape[0]\n",
    "    \n",
    "    #Loop over rows\n",
    "    for i in range(n):\n",
    "            \n",
    "        #Find the pivot index by looking down the ith \n",
    "        #column from the ith row to find the maximum \n",
    "        #(in magnitude) entry.\n",
    "        p = np.abs(temp_mat[i:, i]).argmax()\n",
    "            \n",
    "        #We have to reindex the pivot index to be the \n",
    "        #appropriate entry in the entire matrix, not \n",
    "        #just from the ith row down.\n",
    "        p += i \n",
    "    \n",
    "        #Swapping rows to make the maximal entry the \n",
    "        #pivot (if needed).\n",
    "        if p != i:\n",
    "            temp_mat[[p, i]] = temp_mat[[i, p]]\n",
    "            \n",
    "        #Eliminate all entries below the pivot\n",
    "        factor = temp_mat[i+1:, i] / temp_mat[i, i]\n",
    "        print(temp_mat)\n",
    "        print(temp_mat[i+1:, i])\n",
    "        print(temp_mat[i, i])\n",
    "        print(factor)\n",
    "        print(factor[:, np.newaxis])\n",
    "        print(temp_mat[i])\n",
    "        print(temp_mat[i+1:])\n",
    "        print(\"\\n\\n\")\n",
    "        temp_mat[i+1:] -= factor[:, np.newaxis] * temp_mat[i]\n",
    "        \n",
    "    for i in range(n):\n",
    "        # Set the pivot column to have 1s along the diagnol\n",
    "        temp_mat[i] /= temp_mat[i,i]\n",
    "        \n",
    "    return temp_mat[:,:n], temp_mat[:,n], temp_mat"
   ]
  },
  {
   "cell_type": "code",
   "execution_count": 79,
   "metadata": {},
   "outputs": [
    {
     "name": "stdout",
     "output_type": "stream",
     "text": [
      "[[ 12.  -8.   6.  10.  26.]\n",
      " [  6.  -2.   2.   4.  16.]\n",
      " [  3. -13.   9.   3. -19.]\n",
      " [ -6.   4.   1. -18. -34.]]\n",
      "[ 6.  3. -6.]\n",
      "12.0\n",
      "[ 0.5   0.25 -0.5 ]\n",
      "[[ 0.5 ]\n",
      " [ 0.25]\n",
      " [-0.5 ]]\n",
      "[12. -8.  6. 10. 26.]\n",
      "[[  6.  -2.   2.   4.  16.]\n",
      " [  3. -13.   9.   3. -19.]\n",
      " [ -6.   4.   1. -18. -34.]]\n",
      "\n",
      "\n",
      "\n",
      "[[ 12.   -8.    6.   10.   26. ]\n",
      " [  0.  -11.    7.5   0.5 -25.5]\n",
      " [  0.    2.   -1.   -1.    3. ]\n",
      " [  0.    0.    4.  -13.  -21. ]]\n",
      "[2. 0.]\n",
      "-11.0\n",
      "[-0.18181818 -0.        ]\n",
      "[[-0.18181818]\n",
      " [-0.        ]]\n",
      "[  0.  -11.    7.5   0.5 -25.5]\n",
      "[[  0.   2.  -1.  -1.   3.]\n",
      " [  0.   0.   4. -13. -21.]]\n",
      "\n",
      "\n",
      "\n",
      "[[ 12.          -8.           6.          10.          26.        ]\n",
      " [  0.         -11.           7.5          0.5        -25.5       ]\n",
      " [  0.           0.           4.         -13.         -21.        ]\n",
      " [  0.           0.           0.36363636  -0.90909091  -1.63636364]]\n",
      "[0.36363636]\n",
      "4.0\n",
      "[0.09090909]\n",
      "[[0.09090909]]\n",
      "[  0.   0.   4. -13. -21.]\n",
      "[[ 0.          0.          0.36363636 -0.90909091 -1.63636364]]\n",
      "\n",
      "\n",
      "\n",
      "[[ 12.          -8.           6.          10.          26.        ]\n",
      " [  0.         -11.           7.5          0.5        -25.5       ]\n",
      " [  0.           0.           4.         -13.         -21.        ]\n",
      " [  0.           0.           0.           0.27272727   0.27272727]]\n",
      "[]\n",
      "0.27272727272727304\n",
      "[]\n",
      "[]\n",
      "[0.         0.         0.         0.27272727 0.27272727]\n",
      "[]\n",
      "\n",
      "\n",
      "\n",
      "12.0\n",
      "[12. -8.  6. 10. 26.]\n",
      "-11.0\n",
      "[  0.  -11.    7.5   0.5 -25.5]\n",
      "4.0\n",
      "[  0.   0.   4. -13. -21.]\n",
      "0.27272727272727304\n",
      "[0.         0.         0.         0.27272727 0.27272727]\n"
     ]
    }
   ],
   "source": [
    "M = np.array([[6.0, -2.0, 2.0, 4.0], [12.0, -8.0, 6.0, 10.0], [3.0, -13.0, 9.0, 3.0], [-6.0, 4.0, 1.0, -18.0]])\n",
    "c = np.array([[16.0],[26.0],[-19.0], [-34.0]])\n",
    "A, b, test = guassian_elimination(M,c)"
   ]
  },
  {
   "cell_type": "code",
   "execution_count": 80,
   "metadata": {},
   "outputs": [
    {
     "data": {
      "text/plain": [
       "array([[ 1.        , -0.66666667,  0.5       ,  0.83333333],\n",
       "       [-0.        ,  1.        , -0.68181818, -0.04545455],\n",
       "       [ 0.        ,  0.        ,  1.        , -3.25      ],\n",
       "       [ 0.        ,  0.        ,  0.        ,  1.        ]])"
      ]
     },
     "execution_count": 80,
     "metadata": {},
     "output_type": "execute_result"
    }
   ],
   "source": [
    "A"
   ]
  },
  {
   "cell_type": "code",
   "execution_count": 81,
   "metadata": {},
   "outputs": [
    {
     "data": {
      "text/plain": [
       "array([ 2.16666667,  2.31818182, -5.25      ,  1.        ])"
      ]
     },
     "execution_count": 81,
     "metadata": {},
     "output_type": "execute_result"
    }
   ],
   "source": [
    "b"
   ]
  },
  {
   "cell_type": "code",
   "execution_count": 69,
   "metadata": {},
   "outputs": [
    {
     "name": "stdout",
     "output_type": "stream",
     "text": [
      "[[ 12.          -8.           6.          10.          26.        ]\n",
      " [  0.         -11.           7.5          0.5        -25.5       ]\n",
      " [  0.           0.           4.         -13.         -21.        ]\n",
      " [  0.           0.           0.           0.27272727   0.27272727]]\n"
     ]
    }
   ],
   "source": [
    "print(test)"
   ]
  },
  {
   "cell_type": "code",
   "execution_count": null,
   "metadata": {},
   "outputs": [],
   "source": [
    "    #Allocating space for the solution vector\n",
    "    x = np.zeros_like(b, dtype=np.double);\n",
    "\n",
    "    #Here we perform the back-substitution.  Initializing \n",
    "    #with the last row.\n",
    "    x[-1] = temp_mat[-1,-1] / temp_mat[-1, -2]\n",
    "    \n",
    "    #Looping over rows in reverse (from the bottom up), starting with the second to\n",
    "    #last row, because the last row solve was completed in the last step.\n",
    "    for i in range(n-2, -1, -1):\n",
    "        x[i] = (temp_mat[i,-1] - np.dot(temp_mat[i,i:-1], x[i:])) / temp_mat[i,i]\n",
    "        \n",
    "    return x"
   ]
  }
 ],
 "metadata": {
  "kernelspec": {
   "display_name": "Python 3",
   "language": "python",
   "name": "python3"
  },
  "language_info": {
   "codemirror_mode": {
    "name": "ipython",
    "version": 3
   },
   "file_extension": ".py",
   "mimetype": "text/x-python",
   "name": "python",
   "nbconvert_exporter": "python",
   "pygments_lexer": "ipython3",
   "version": "3.8.5"
  }
 },
 "nbformat": 4,
 "nbformat_minor": 4
}
